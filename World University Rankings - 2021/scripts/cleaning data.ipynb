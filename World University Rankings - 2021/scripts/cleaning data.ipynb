{
 "cells": [
  {
   "cell_type": "markdown",
   "id": "44d86fc0-69dc-4040-ba3c-6f459d4c4ca5",
   "metadata": {},
   "source": [
    "## Import libraries"
   ]
  },
  {
   "cell_type": "code",
   "execution_count": 3,
   "id": "1d214c6a-b31e-4e5c-ab6a-fd490247468c",
   "metadata": {},
   "outputs": [],
   "source": [
    "import pandas as pd\n",
    "import numpy as np\n",
    "import os"
   ]
  },
  {
   "cell_type": "markdown",
   "id": "7d1c0021-7482-4ebb-b65d-630943c60814",
   "metadata": {},
   "source": [
    "## Import Data"
   ]
  },
  {
   "cell_type": "code",
   "execution_count": 5,
   "id": "02768422-83b2-443e-8003-ad084c59e3a4",
   "metadata": {},
   "outputs": [],
   "source": [
    "path=r'/Users/yasersouri/Desktop/data analysis/immersion 6/World University Rankings - 2021'"
   ]
  },
  {
   "cell_type": "code",
   "execution_count": 6,
   "id": "c8e6226f-42ec-4fe7-9bb5-2aa060f6a9bf",
   "metadata": {},
   "outputs": [],
   "source": [
    "df_ranking=pd.read_csv(os.path.join(path,'universities_ranking.csv'),index_col=False)"
   ]
  },
  {
   "cell_type": "code",
   "execution_count": 7,
   "id": "e4a69170-860f-4e84-94cb-bde22f531a97",
   "metadata": {},
   "outputs": [],
   "source": [
    "df_scores=pd.read_csv(os.path.join(path,'universities_scores.csv'),index_col=False)"
   ]
  },
  {
   "cell_type": "markdown",
   "id": "6ce55d27-7804-4d96-91a1-63d788c17ac0",
   "metadata": {},
   "source": [
    "## Data Consistency Checks df_ranking"
   ]
  },
  {
   "cell_type": "code",
   "execution_count": 9,
   "id": "6ddaaf7e-c5da-4520-9dd9-9e7df2b17c62",
   "metadata": {},
   "outputs": [
    {
     "data": {
      "text/plain": [
       "ranking                   int64\n",
       "title                    object\n",
       "location                 object\n",
       "number students          object\n",
       "students staff ratio    float64\n",
       "perc intl students       object\n",
       "gender ratio             object\n",
       "dtype: object"
      ]
     },
     "execution_count": 9,
     "metadata": {},
     "output_type": "execute_result"
    }
   ],
   "source": [
    "df_ranking.dtypes"
   ]
  },
  {
   "cell_type": "code",
   "execution_count": 10,
   "id": "d47c024d-4933-4a80-b8c0-bf224e30e39d",
   "metadata": {},
   "outputs": [],
   "source": [
    "# change data type\n",
    "df_ranking['perc intl students'] = df_ranking['perc intl students'].str.replace('%', '', regex=False).replace('', '0').astype(float) / 100\n",
    "df_ranking['ranking']=df_ranking['ranking'].astype('str')\n",
    "\n"
   ]
  },
  {
   "cell_type": "code",
   "execution_count": 11,
   "id": "9013c3f4-fecf-4482-ad1e-848220f3e390",
   "metadata": {
    "scrolled": true
   },
   "outputs": [
    {
     "data": {
      "text/plain": [
       "ranking                  object\n",
       "title                    object\n",
       "location                 object\n",
       "number students          object\n",
       "students staff ratio    float64\n",
       "perc intl students      float64\n",
       "gender ratio             object\n",
       "dtype: object"
      ]
     },
     "execution_count": 11,
     "metadata": {},
     "output_type": "execute_result"
    }
   ],
   "source": [
    "df_ranking.dtypes"
   ]
  },
  {
   "cell_type": "code",
   "execution_count": 12,
   "id": "c761408e-8521-42ed-a392-9c85cb73af01",
   "metadata": {},
   "outputs": [
    {
     "name": "stdout",
     "output_type": "stream",
     "text": [
      "gender ratio\n"
     ]
    }
   ],
   "source": [
    "#function for checking whether a dataframe contains any mixed-type columns\n",
    "for col in df_ranking.columns.tolist():\n",
    "  weird = (df_ranking[[col]].map(type) != df_ranking[[col]].iloc[0].apply(type)).any(axis = 1)\n",
    "  if len (df_ranking[weird]) > 0:\n",
    "    print (col)"
   ]
  },
  {
   "cell_type": "code",
   "execution_count": 13,
   "id": "dda54b76-147b-4699-ad9a-e2f9346d110b",
   "metadata": {},
   "outputs": [],
   "source": [
    "# delete gender ratio column & students staff ratio ; because it is unspecified\n",
    "df_ranking = df_ranking.drop(columns=['gender ratio'])\n",
    "df_ranking = df_ranking.drop(columns=['students staff ratio'])"
   ]
  },
  {
   "cell_type": "code",
   "execution_count": 14,
   "id": "f80a6fbe-a197-4cce-bbbf-9b031bae235d",
   "metadata": {},
   "outputs": [],
   "source": [
    "# change column names\n",
    "df_ranking.rename(columns={'number students': 'number_of_students'}, inplace=True)\n",
    "df_ranking.rename(columns={'perc intl students': 'international_students%'}, inplace=True)\n"
   ]
  },
  {
   "cell_type": "code",
   "execution_count": 15,
   "id": "1c14e1d8-0706-46b4-9f5d-142deab07627",
   "metadata": {},
   "outputs": [
    {
     "data": {
      "text/html": [
       "<div>\n",
       "<style scoped>\n",
       "    .dataframe tbody tr th:only-of-type {\n",
       "        vertical-align: middle;\n",
       "    }\n",
       "\n",
       "    .dataframe tbody tr th {\n",
       "        vertical-align: top;\n",
       "    }\n",
       "\n",
       "    .dataframe thead th {\n",
       "        text-align: right;\n",
       "    }\n",
       "</style>\n",
       "<table border=\"1\" class=\"dataframe\">\n",
       "  <thead>\n",
       "    <tr style=\"text-align: right;\">\n",
       "      <th></th>\n",
       "      <th>international_students%</th>\n",
       "    </tr>\n",
       "  </thead>\n",
       "  <tbody>\n",
       "    <tr>\n",
       "      <th>count</th>\n",
       "      <td>1526.000000</td>\n",
       "    </tr>\n",
       "    <tr>\n",
       "      <th>mean</th>\n",
       "      <td>0.113073</td>\n",
       "    </tr>\n",
       "    <tr>\n",
       "      <th>std</th>\n",
       "      <td>0.119854</td>\n",
       "    </tr>\n",
       "    <tr>\n",
       "      <th>min</th>\n",
       "      <td>0.000000</td>\n",
       "    </tr>\n",
       "    <tr>\n",
       "      <th>25%</th>\n",
       "      <td>0.020000</td>\n",
       "    </tr>\n",
       "    <tr>\n",
       "      <th>50%</th>\n",
       "      <td>0.070000</td>\n",
       "    </tr>\n",
       "    <tr>\n",
       "      <th>75%</th>\n",
       "      <td>0.170000</td>\n",
       "    </tr>\n",
       "    <tr>\n",
       "      <th>max</th>\n",
       "      <td>0.840000</td>\n",
       "    </tr>\n",
       "  </tbody>\n",
       "</table>\n",
       "</div>"
      ],
      "text/plain": [
       "       international_students%\n",
       "count              1526.000000\n",
       "mean                  0.113073\n",
       "std                   0.119854\n",
       "min                   0.000000\n",
       "25%                   0.020000\n",
       "50%                   0.070000\n",
       "75%                   0.170000\n",
       "max                   0.840000"
      ]
     },
     "execution_count": 15,
     "metadata": {},
     "output_type": "execute_result"
    }
   ],
   "source": [
    "# df_ranking statistical analysis\n",
    "df_ranking.describe()"
   ]
  },
  {
   "cell_type": "markdown",
   "id": "70eebff5-4a0c-4b39-9e08-a53a0af37b7a",
   "metadata": {},
   "source": [
    "##  Missing Data df_ranking"
   ]
  },
  {
   "cell_type": "code",
   "execution_count": 17,
   "id": "9bd0ed5c-9edc-43b4-96c2-f0d46fe7e05e",
   "metadata": {},
   "outputs": [
    {
     "data": {
      "text/plain": [
       "ranking                    0\n",
       "title                      0\n",
       "location                   0\n",
       "number_of_students         0\n",
       "international_students%    0\n",
       "dtype: int64"
      ]
     },
     "execution_count": 17,
     "metadata": {},
     "output_type": "execute_result"
    }
   ],
   "source": [
    "#find missing data\n",
    "df_ranking.isnull().sum()"
   ]
  },
  {
   "cell_type": "markdown",
   "id": "caed2357-ff76-4858-95f2-d1ec8de18e64",
   "metadata": {},
   "source": [
    "no missing data"
   ]
  },
  {
   "cell_type": "markdown",
   "id": "120357ff-73d8-4db3-8f12-281b5f44ff1d",
   "metadata": {},
   "source": [
    "## Duplicates df_ranking"
   ]
  },
  {
   "cell_type": "code",
   "execution_count": 20,
   "id": "02eee007-6a6a-43fc-bbff-70d80dab8771",
   "metadata": {},
   "outputs": [
    {
     "data": {
      "text/html": [
       "<div>\n",
       "<style scoped>\n",
       "    .dataframe tbody tr th:only-of-type {\n",
       "        vertical-align: middle;\n",
       "    }\n",
       "\n",
       "    .dataframe tbody tr th {\n",
       "        vertical-align: top;\n",
       "    }\n",
       "\n",
       "    .dataframe thead th {\n",
       "        text-align: right;\n",
       "    }\n",
       "</style>\n",
       "<table border=\"1\" class=\"dataframe\">\n",
       "  <thead>\n",
       "    <tr style=\"text-align: right;\">\n",
       "      <th></th>\n",
       "      <th>ranking</th>\n",
       "      <th>title</th>\n",
       "      <th>location</th>\n",
       "      <th>number_of_students</th>\n",
       "      <th>international_students%</th>\n",
       "    </tr>\n",
       "  </thead>\n",
       "  <tbody>\n",
       "  </tbody>\n",
       "</table>\n",
       "</div>"
      ],
      "text/plain": [
       "Empty DataFrame\n",
       "Columns: [ranking, title, location, number_of_students, international_students%]\n",
       "Index: []"
      ]
     },
     "execution_count": 20,
     "metadata": {},
     "output_type": "execute_result"
    }
   ],
   "source": [
    "#find duplicates\n",
    "df_dup=df_ranking[df_ranking.duplicated()]\n",
    "df_dup"
   ]
  },
  {
   "cell_type": "markdown",
   "id": "08f12dcd-d791-4fae-b006-a8bde492e990",
   "metadata": {},
   "source": [
    "no duplicates"
   ]
  },
  {
   "cell_type": "markdown",
   "id": "79738e37-0d2c-4274-97cf-7c69ba0074f4",
   "metadata": {},
   "source": [
    "## df_ranking"
   ]
  },
  {
   "cell_type": "code",
   "execution_count": 23,
   "id": "17150be9-1943-40ba-b979-bbdc934af048",
   "metadata": {},
   "outputs": [
    {
     "data": {
      "text/html": [
       "<div>\n",
       "<style scoped>\n",
       "    .dataframe tbody tr th:only-of-type {\n",
       "        vertical-align: middle;\n",
       "    }\n",
       "\n",
       "    .dataframe tbody tr th {\n",
       "        vertical-align: top;\n",
       "    }\n",
       "\n",
       "    .dataframe thead th {\n",
       "        text-align: right;\n",
       "    }\n",
       "</style>\n",
       "<table border=\"1\" class=\"dataframe\">\n",
       "  <thead>\n",
       "    <tr style=\"text-align: right;\">\n",
       "      <th></th>\n",
       "      <th>ranking</th>\n",
       "      <th>title</th>\n",
       "      <th>location</th>\n",
       "      <th>number_of_students</th>\n",
       "      <th>international_students%</th>\n",
       "    </tr>\n",
       "  </thead>\n",
       "  <tbody>\n",
       "    <tr>\n",
       "      <th>0</th>\n",
       "      <td>1</td>\n",
       "      <td>University of Oxford</td>\n",
       "      <td>United Kingdom</td>\n",
       "      <td>20,774</td>\n",
       "      <td>0.41</td>\n",
       "    </tr>\n",
       "    <tr>\n",
       "      <th>1</th>\n",
       "      <td>2</td>\n",
       "      <td>Stanford University</td>\n",
       "      <td>United States</td>\n",
       "      <td>16,223</td>\n",
       "      <td>0.23</td>\n",
       "    </tr>\n",
       "    <tr>\n",
       "      <th>2</th>\n",
       "      <td>3</td>\n",
       "      <td>Harvard University</td>\n",
       "      <td>United States</td>\n",
       "      <td>21,261</td>\n",
       "      <td>0.25</td>\n",
       "    </tr>\n",
       "    <tr>\n",
       "      <th>3</th>\n",
       "      <td>4</td>\n",
       "      <td>California Institute of Technology</td>\n",
       "      <td>United States</td>\n",
       "      <td>2,238</td>\n",
       "      <td>0.33</td>\n",
       "    </tr>\n",
       "    <tr>\n",
       "      <th>4</th>\n",
       "      <td>5</td>\n",
       "      <td>Massachusetts Institute of Technology</td>\n",
       "      <td>United States</td>\n",
       "      <td>11,276</td>\n",
       "      <td>0.34</td>\n",
       "    </tr>\n",
       "  </tbody>\n",
       "</table>\n",
       "</div>"
      ],
      "text/plain": [
       "  ranking                                  title        location  \\\n",
       "0       1                   University of Oxford  United Kingdom   \n",
       "1       2                    Stanford University   United States   \n",
       "2       3                     Harvard University   United States   \n",
       "3       4     California Institute of Technology   United States   \n",
       "4       5  Massachusetts Institute of Technology   United States   \n",
       "\n",
       "  number_of_students  international_students%  \n",
       "0             20,774                     0.41  \n",
       "1             16,223                     0.23  \n",
       "2             21,261                     0.25  \n",
       "3              2,238                     0.33  \n",
       "4             11,276                     0.34  "
      ]
     },
     "execution_count": 23,
     "metadata": {},
     "output_type": "execute_result"
    }
   ],
   "source": [
    "df_ranking.head()"
   ]
  },
  {
   "cell_type": "code",
   "execution_count": 24,
   "id": "c3e3f78e-60df-4f2c-b3d8-f23b8e92e2a1",
   "metadata": {},
   "outputs": [
    {
     "data": {
      "text/plain": [
       "(1526, 5)"
      ]
     },
     "execution_count": 24,
     "metadata": {},
     "output_type": "execute_result"
    }
   ],
   "source": [
    "df_ranking.shape"
   ]
  },
  {
   "cell_type": "markdown",
   "id": "232d9cb2-0bb1-47a1-b01f-35ddd1fa6dc8",
   "metadata": {},
   "source": [
    "## Data Consistency Checks df_scores"
   ]
  },
  {
   "cell_type": "code",
   "execution_count": 26,
   "id": "b1719680-81cf-4f40-900c-98b0cda197b2",
   "metadata": {},
   "outputs": [
    {
     "data": {
      "text/plain": [
       "ranking                    int64\n",
       "title                     object\n",
       "location                  object\n",
       "overall score            float64\n",
       "teaching score           float64\n",
       "research score           float64\n",
       "citations score          float64\n",
       "industry income score    float64\n",
       "intl outlook score       float64\n",
       "Unnamed: 9               float64\n",
       "Unnamed: 10              float64\n",
       "Unnamed: 11              float64\n",
       "Unnamed: 12              float64\n",
       "dtype: object"
      ]
     },
     "execution_count": 26,
     "metadata": {},
     "output_type": "execute_result"
    }
   ],
   "source": [
    "df_scores.dtypes"
   ]
  },
  {
   "cell_type": "code",
   "execution_count": 27,
   "id": "d6cc5531-65b6-4334-b20e-cd13952af8ec",
   "metadata": {},
   "outputs": [],
   "source": [
    "# change data type\n",
    "df_scores['ranking']=df_scores['ranking'].astype('str')\n",
    "df_scores['overall score']=df_scores['overall score'].astype('float64')\n"
   ]
  },
  {
   "cell_type": "code",
   "execution_count": 28,
   "id": "97ea8d46-9f6a-4cbb-a174-1b93bb8d831f",
   "metadata": {},
   "outputs": [
    {
     "data": {
      "text/plain": [
       "ranking                   object\n",
       "title                     object\n",
       "location                  object\n",
       "overall score            float64\n",
       "teaching score           float64\n",
       "research score           float64\n",
       "citations score          float64\n",
       "industry income score    float64\n",
       "intl outlook score       float64\n",
       "Unnamed: 9               float64\n",
       "Unnamed: 10              float64\n",
       "Unnamed: 11              float64\n",
       "Unnamed: 12              float64\n",
       "dtype: object"
      ]
     },
     "execution_count": 28,
     "metadata": {},
     "output_type": "execute_result"
    }
   ],
   "source": [
    "df_scores.dtypes"
   ]
  },
  {
   "cell_type": "code",
   "execution_count": 29,
   "id": "f85e1da0-e16b-48f1-b2bb-5c1cb0a0db85",
   "metadata": {},
   "outputs": [],
   "source": [
    "#function for checking whether a dataframe contains any mixed-type columns\n",
    "for col in df_scores.columns.tolist():\n",
    "  weird2= (df_scores[[col]].map(type) != df_scores[[col]].iloc[0].apply(type)).any(axis = 1)\n",
    "  if len (df_scores[weird2]) > 0:\n",
    "    print (col)"
   ]
  },
  {
   "cell_type": "markdown",
   "id": "dd9dd59e-798b-4a75-a39b-a8a1f0d332a6",
   "metadata": {},
   "source": [
    "no mixed-type data"
   ]
  },
  {
   "cell_type": "code",
   "execution_count": 31,
   "id": "96ab3923-a084-4db6-b319-2e387178c3f5",
   "metadata": {},
   "outputs": [],
   "source": [
    "# change column names\n",
    "df_scores.rename(columns={'overall score': 'overall_score'}, inplace=True)\n",
    "df_scores.rename(columns={'teaching score': 'teaching_score'}, inplace=True)\n",
    "df_scores.rename(columns={'research score': 'research_score'}, inplace=True)\n",
    "df_scores.rename(columns={'citations score': 'citations_score'}, inplace=True)\n",
    "df_scores.rename(columns={'industry income score': 'industry_income_score'}, inplace=True)\n",
    "df_scores.rename(columns={'intl outlook score': 'international_outlook_score'}, inplace=True)"
   ]
  },
  {
   "cell_type": "code",
   "execution_count": 32,
   "id": "db8eee69-bae8-480d-971b-23b18c25bf48",
   "metadata": {},
   "outputs": [
    {
     "data": {
      "text/html": [
       "<div>\n",
       "<style scoped>\n",
       "    .dataframe tbody tr th:only-of-type {\n",
       "        vertical-align: middle;\n",
       "    }\n",
       "\n",
       "    .dataframe tbody tr th {\n",
       "        vertical-align: top;\n",
       "    }\n",
       "\n",
       "    .dataframe thead th {\n",
       "        text-align: right;\n",
       "    }\n",
       "</style>\n",
       "<table border=\"1\" class=\"dataframe\">\n",
       "  <thead>\n",
       "    <tr style=\"text-align: right;\">\n",
       "      <th></th>\n",
       "      <th>overall_score</th>\n",
       "      <th>teaching_score</th>\n",
       "      <th>research_score</th>\n",
       "      <th>citations_score</th>\n",
       "      <th>industry_income_score</th>\n",
       "      <th>international_outlook_score</th>\n",
       "      <th>Unnamed: 9</th>\n",
       "      <th>Unnamed: 10</th>\n",
       "      <th>Unnamed: 11</th>\n",
       "      <th>Unnamed: 12</th>\n",
       "    </tr>\n",
       "  </thead>\n",
       "  <tbody>\n",
       "    <tr>\n",
       "      <th>count</th>\n",
       "      <td>1526.000000</td>\n",
       "      <td>1526.000000</td>\n",
       "      <td>1526.000000</td>\n",
       "      <td>1526.000000</td>\n",
       "      <td>1526.000000</td>\n",
       "      <td>1526.000000</td>\n",
       "      <td>0.0</td>\n",
       "      <td>0.0</td>\n",
       "      <td>0.0</td>\n",
       "      <td>0.0</td>\n",
       "    </tr>\n",
       "    <tr>\n",
       "      <th>mean</th>\n",
       "      <td>34.473591</td>\n",
       "      <td>27.811337</td>\n",
       "      <td>23.573001</td>\n",
       "      <td>48.127392</td>\n",
       "      <td>46.090826</td>\n",
       "      <td>47.029292</td>\n",
       "      <td>NaN</td>\n",
       "      <td>NaN</td>\n",
       "      <td>NaN</td>\n",
       "      <td>NaN</td>\n",
       "    </tr>\n",
       "    <tr>\n",
       "      <th>std</th>\n",
       "      <td>16.822791</td>\n",
       "      <td>13.622781</td>\n",
       "      <td>17.333799</td>\n",
       "      <td>27.609148</td>\n",
       "      <td>17.151123</td>\n",
       "      <td>23.168845</td>\n",
       "      <td>NaN</td>\n",
       "      <td>NaN</td>\n",
       "      <td>NaN</td>\n",
       "      <td>NaN</td>\n",
       "    </tr>\n",
       "    <tr>\n",
       "      <th>min</th>\n",
       "      <td>11.000000</td>\n",
       "      <td>11.700000</td>\n",
       "      <td>7.100000</td>\n",
       "      <td>1.900000</td>\n",
       "      <td>33.300000</td>\n",
       "      <td>13.500000</td>\n",
       "      <td>NaN</td>\n",
       "      <td>NaN</td>\n",
       "      <td>NaN</td>\n",
       "      <td>NaN</td>\n",
       "    </tr>\n",
       "    <tr>\n",
       "      <th>25%</th>\n",
       "      <td>21.000000</td>\n",
       "      <td>18.600000</td>\n",
       "      <td>11.400000</td>\n",
       "      <td>23.500000</td>\n",
       "      <td>34.800000</td>\n",
       "      <td>27.500000</td>\n",
       "      <td>NaN</td>\n",
       "      <td>NaN</td>\n",
       "      <td>NaN</td>\n",
       "      <td>NaN</td>\n",
       "    </tr>\n",
       "    <tr>\n",
       "      <th>50%</th>\n",
       "      <td>32.000000</td>\n",
       "      <td>23.550000</td>\n",
       "      <td>17.500000</td>\n",
       "      <td>45.100000</td>\n",
       "      <td>38.500000</td>\n",
       "      <td>42.300000</td>\n",
       "      <td>NaN</td>\n",
       "      <td>NaN</td>\n",
       "      <td>NaN</td>\n",
       "      <td>NaN</td>\n",
       "    </tr>\n",
       "    <tr>\n",
       "      <th>75%</th>\n",
       "      <td>44.000000</td>\n",
       "      <td>32.500000</td>\n",
       "      <td>29.975000</td>\n",
       "      <td>71.300000</td>\n",
       "      <td>50.000000</td>\n",
       "      <td>63.000000</td>\n",
       "      <td>NaN</td>\n",
       "      <td>NaN</td>\n",
       "      <td>NaN</td>\n",
       "      <td>NaN</td>\n",
       "    </tr>\n",
       "    <tr>\n",
       "      <th>max</th>\n",
       "      <td>95.600000</td>\n",
       "      <td>94.400000</td>\n",
       "      <td>99.600000</td>\n",
       "      <td>100.000000</td>\n",
       "      <td>100.000000</td>\n",
       "      <td>100.000000</td>\n",
       "      <td>NaN</td>\n",
       "      <td>NaN</td>\n",
       "      <td>NaN</td>\n",
       "      <td>NaN</td>\n",
       "    </tr>\n",
       "  </tbody>\n",
       "</table>\n",
       "</div>"
      ],
      "text/plain": [
       "       overall_score  teaching_score  research_score  citations_score  \\\n",
       "count    1526.000000     1526.000000     1526.000000      1526.000000   \n",
       "mean       34.473591       27.811337       23.573001        48.127392   \n",
       "std        16.822791       13.622781       17.333799        27.609148   \n",
       "min        11.000000       11.700000        7.100000         1.900000   \n",
       "25%        21.000000       18.600000       11.400000        23.500000   \n",
       "50%        32.000000       23.550000       17.500000        45.100000   \n",
       "75%        44.000000       32.500000       29.975000        71.300000   \n",
       "max        95.600000       94.400000       99.600000       100.000000   \n",
       "\n",
       "       industry_income_score  international_outlook_score  Unnamed: 9  \\\n",
       "count            1526.000000                  1526.000000         0.0   \n",
       "mean               46.090826                    47.029292         NaN   \n",
       "std                17.151123                    23.168845         NaN   \n",
       "min                33.300000                    13.500000         NaN   \n",
       "25%                34.800000                    27.500000         NaN   \n",
       "50%                38.500000                    42.300000         NaN   \n",
       "75%                50.000000                    63.000000         NaN   \n",
       "max               100.000000                   100.000000         NaN   \n",
       "\n",
       "       Unnamed: 10  Unnamed: 11  Unnamed: 12  \n",
       "count          0.0          0.0          0.0  \n",
       "mean           NaN          NaN          NaN  \n",
       "std            NaN          NaN          NaN  \n",
       "min            NaN          NaN          NaN  \n",
       "25%            NaN          NaN          NaN  \n",
       "50%            NaN          NaN          NaN  \n",
       "75%            NaN          NaN          NaN  \n",
       "max            NaN          NaN          NaN  "
      ]
     },
     "execution_count": 32,
     "metadata": {},
     "output_type": "execute_result"
    }
   ],
   "source": [
    "# df_scores statistical analysis\n",
    "df_scores.describe()"
   ]
  },
  {
   "cell_type": "markdown",
   "id": "e0be3c18-2fef-45a8-9954-fbc6fa09795a",
   "metadata": {},
   "source": [
    "## Missing Data df_scores"
   ]
  },
  {
   "cell_type": "code",
   "execution_count": 34,
   "id": "12879303-61f6-4c9b-afc5-3637b0cbdedf",
   "metadata": {},
   "outputs": [
    {
     "data": {
      "text/plain": [
       "ranking                           0\n",
       "title                             0\n",
       "location                          0\n",
       "overall_score                     0\n",
       "teaching_score                    0\n",
       "research_score                    0\n",
       "citations_score                   0\n",
       "industry_income_score             0\n",
       "international_outlook_score       0\n",
       "Unnamed: 9                     1526\n",
       "Unnamed: 10                    1526\n",
       "Unnamed: 11                    1526\n",
       "Unnamed: 12                    1526\n",
       "dtype: int64"
      ]
     },
     "execution_count": 34,
     "metadata": {},
     "output_type": "execute_result"
    }
   ],
   "source": [
    "#find missing data\n",
    "df_scores.isnull().sum()"
   ]
  },
  {
   "cell_type": "markdown",
   "id": "f40c5bcb-d3e2-4715-a050-3c4b991da10a",
   "metadata": {},
   "source": [
    "no missing data"
   ]
  },
  {
   "cell_type": "markdown",
   "id": "ab7fea7b-5f00-4219-994b-10c6836a799a",
   "metadata": {},
   "source": [
    "## Duplicates df_scores"
   ]
  },
  {
   "cell_type": "code",
   "execution_count": 37,
   "id": "c855a74b-8c8c-4823-9bc3-ccfcd30f12d1",
   "metadata": {},
   "outputs": [
    {
     "data": {
      "text/html": [
       "<div>\n",
       "<style scoped>\n",
       "    .dataframe tbody tr th:only-of-type {\n",
       "        vertical-align: middle;\n",
       "    }\n",
       "\n",
       "    .dataframe tbody tr th {\n",
       "        vertical-align: top;\n",
       "    }\n",
       "\n",
       "    .dataframe thead th {\n",
       "        text-align: right;\n",
       "    }\n",
       "</style>\n",
       "<table border=\"1\" class=\"dataframe\">\n",
       "  <thead>\n",
       "    <tr style=\"text-align: right;\">\n",
       "      <th></th>\n",
       "      <th>ranking</th>\n",
       "      <th>title</th>\n",
       "      <th>location</th>\n",
       "      <th>overall_score</th>\n",
       "      <th>teaching_score</th>\n",
       "      <th>research_score</th>\n",
       "      <th>citations_score</th>\n",
       "      <th>industry_income_score</th>\n",
       "      <th>international_outlook_score</th>\n",
       "      <th>Unnamed: 9</th>\n",
       "      <th>Unnamed: 10</th>\n",
       "      <th>Unnamed: 11</th>\n",
       "      <th>Unnamed: 12</th>\n",
       "    </tr>\n",
       "  </thead>\n",
       "  <tbody>\n",
       "  </tbody>\n",
       "</table>\n",
       "</div>"
      ],
      "text/plain": [
       "Empty DataFrame\n",
       "Columns: [ranking, title, location, overall_score, teaching_score, research_score, citations_score, industry_income_score, international_outlook_score, Unnamed: 9, Unnamed: 10, Unnamed: 11, Unnamed: 12]\n",
       "Index: []"
      ]
     },
     "execution_count": 37,
     "metadata": {},
     "output_type": "execute_result"
    }
   ],
   "source": [
    "#find duplicates\n",
    "df_dup2=df_scores[df_scores.duplicated()]\n",
    "df_dup2"
   ]
  },
  {
   "cell_type": "markdown",
   "id": "1eb6d840-25ad-42df-a93a-e64d1875aadc",
   "metadata": {},
   "source": [
    "no duplicates"
   ]
  },
  {
   "cell_type": "markdown",
   "id": "c345d736-1426-4cb5-8cb6-1cd170bca4ac",
   "metadata": {},
   "source": [
    "## df_scores"
   ]
  },
  {
   "cell_type": "code",
   "execution_count": 40,
   "id": "5d18165e-bcee-4a21-b7bb-25f3b26faa51",
   "metadata": {},
   "outputs": [
    {
     "data": {
      "text/html": [
       "<div>\n",
       "<style scoped>\n",
       "    .dataframe tbody tr th:only-of-type {\n",
       "        vertical-align: middle;\n",
       "    }\n",
       "\n",
       "    .dataframe tbody tr th {\n",
       "        vertical-align: top;\n",
       "    }\n",
       "\n",
       "    .dataframe thead th {\n",
       "        text-align: right;\n",
       "    }\n",
       "</style>\n",
       "<table border=\"1\" class=\"dataframe\">\n",
       "  <thead>\n",
       "    <tr style=\"text-align: right;\">\n",
       "      <th></th>\n",
       "      <th>ranking</th>\n",
       "      <th>title</th>\n",
       "      <th>location</th>\n",
       "      <th>overall_score</th>\n",
       "      <th>teaching_score</th>\n",
       "      <th>research_score</th>\n",
       "      <th>citations_score</th>\n",
       "      <th>industry_income_score</th>\n",
       "      <th>international_outlook_score</th>\n",
       "      <th>Unnamed: 9</th>\n",
       "      <th>Unnamed: 10</th>\n",
       "      <th>Unnamed: 11</th>\n",
       "      <th>Unnamed: 12</th>\n",
       "    </tr>\n",
       "  </thead>\n",
       "  <tbody>\n",
       "    <tr>\n",
       "      <th>0</th>\n",
       "      <td>1</td>\n",
       "      <td>University of Oxford</td>\n",
       "      <td>United Kingdom</td>\n",
       "      <td>95.6</td>\n",
       "      <td>91.3</td>\n",
       "      <td>99.6</td>\n",
       "      <td>98.0</td>\n",
       "      <td>68.7</td>\n",
       "      <td>96.4</td>\n",
       "      <td>NaN</td>\n",
       "      <td>NaN</td>\n",
       "      <td>NaN</td>\n",
       "      <td>NaN</td>\n",
       "    </tr>\n",
       "    <tr>\n",
       "      <th>1</th>\n",
       "      <td>2</td>\n",
       "      <td>Stanford University</td>\n",
       "      <td>United States</td>\n",
       "      <td>94.9</td>\n",
       "      <td>92.2</td>\n",
       "      <td>96.7</td>\n",
       "      <td>99.9</td>\n",
       "      <td>90.1</td>\n",
       "      <td>79.5</td>\n",
       "      <td>NaN</td>\n",
       "      <td>NaN</td>\n",
       "      <td>NaN</td>\n",
       "      <td>NaN</td>\n",
       "    </tr>\n",
       "    <tr>\n",
       "      <th>2</th>\n",
       "      <td>3</td>\n",
       "      <td>Harvard University</td>\n",
       "      <td>United States</td>\n",
       "      <td>94.8</td>\n",
       "      <td>94.4</td>\n",
       "      <td>98.8</td>\n",
       "      <td>99.4</td>\n",
       "      <td>46.8</td>\n",
       "      <td>77.7</td>\n",
       "      <td>NaN</td>\n",
       "      <td>NaN</td>\n",
       "      <td>NaN</td>\n",
       "      <td>NaN</td>\n",
       "    </tr>\n",
       "    <tr>\n",
       "      <th>3</th>\n",
       "      <td>4</td>\n",
       "      <td>California Institute of Technology</td>\n",
       "      <td>United States</td>\n",
       "      <td>94.5</td>\n",
       "      <td>92.5</td>\n",
       "      <td>96.9</td>\n",
       "      <td>97.0</td>\n",
       "      <td>92.7</td>\n",
       "      <td>83.6</td>\n",
       "      <td>NaN</td>\n",
       "      <td>NaN</td>\n",
       "      <td>NaN</td>\n",
       "      <td>NaN</td>\n",
       "    </tr>\n",
       "    <tr>\n",
       "      <th>4</th>\n",
       "      <td>5</td>\n",
       "      <td>Massachusetts Institute of Technology</td>\n",
       "      <td>United States</td>\n",
       "      <td>94.4</td>\n",
       "      <td>90.7</td>\n",
       "      <td>94.4</td>\n",
       "      <td>99.7</td>\n",
       "      <td>90.4</td>\n",
       "      <td>90.0</td>\n",
       "      <td>NaN</td>\n",
       "      <td>NaN</td>\n",
       "      <td>NaN</td>\n",
       "      <td>NaN</td>\n",
       "    </tr>\n",
       "  </tbody>\n",
       "</table>\n",
       "</div>"
      ],
      "text/plain": [
       "  ranking                                  title        location  \\\n",
       "0       1                   University of Oxford  United Kingdom   \n",
       "1       2                    Stanford University   United States   \n",
       "2       3                     Harvard University   United States   \n",
       "3       4     California Institute of Technology   United States   \n",
       "4       5  Massachusetts Institute of Technology   United States   \n",
       "\n",
       "   overall_score  teaching_score  research_score  citations_score  \\\n",
       "0           95.6            91.3            99.6             98.0   \n",
       "1           94.9            92.2            96.7             99.9   \n",
       "2           94.8            94.4            98.8             99.4   \n",
       "3           94.5            92.5            96.9             97.0   \n",
       "4           94.4            90.7            94.4             99.7   \n",
       "\n",
       "   industry_income_score  international_outlook_score  Unnamed: 9  \\\n",
       "0                   68.7                         96.4         NaN   \n",
       "1                   90.1                         79.5         NaN   \n",
       "2                   46.8                         77.7         NaN   \n",
       "3                   92.7                         83.6         NaN   \n",
       "4                   90.4                         90.0         NaN   \n",
       "\n",
       "   Unnamed: 10  Unnamed: 11  Unnamed: 12  \n",
       "0          NaN          NaN          NaN  \n",
       "1          NaN          NaN          NaN  \n",
       "2          NaN          NaN          NaN  \n",
       "3          NaN          NaN          NaN  \n",
       "4          NaN          NaN          NaN  "
      ]
     },
     "execution_count": 40,
     "metadata": {},
     "output_type": "execute_result"
    }
   ],
   "source": [
    "df_scores.head()"
   ]
  },
  {
   "cell_type": "code",
   "execution_count": 41,
   "id": "741db09a-c68f-4442-a980-6bde4b85c3e7",
   "metadata": {},
   "outputs": [
    {
     "data": {
      "text/plain": [
       "(1526, 13)"
      ]
     },
     "execution_count": 41,
     "metadata": {},
     "output_type": "execute_result"
    }
   ],
   "source": [
    "df_scores.shape"
   ]
  },
  {
   "cell_type": "markdown",
   "id": "510d8633-260a-4325-bcb6-7eb38162d698",
   "metadata": {},
   "source": [
    "## Combine Dataframes"
   ]
  },
  {
   "cell_type": "code",
   "execution_count": 43,
   "id": "f8619e0e-f73c-4246-9d5d-c8ee9401d009",
   "metadata": {},
   "outputs": [],
   "source": [
    "# merging df_ranking and df_ords_scores dataframes\n",
    "df_merged=df_ranking.merge(df_scores,on=['ranking','title','location'])"
   ]
  },
  {
   "cell_type": "code",
   "execution_count": 44,
   "id": "0297766c-1e99-4488-a089-dfdfc35d4e9c",
   "metadata": {},
   "outputs": [
    {
     "data": {
      "text/html": [
       "<div>\n",
       "<style scoped>\n",
       "    .dataframe tbody tr th:only-of-type {\n",
       "        vertical-align: middle;\n",
       "    }\n",
       "\n",
       "    .dataframe tbody tr th {\n",
       "        vertical-align: top;\n",
       "    }\n",
       "\n",
       "    .dataframe thead th {\n",
       "        text-align: right;\n",
       "    }\n",
       "</style>\n",
       "<table border=\"1\" class=\"dataframe\">\n",
       "  <thead>\n",
       "    <tr style=\"text-align: right;\">\n",
       "      <th></th>\n",
       "      <th>ranking</th>\n",
       "      <th>title</th>\n",
       "      <th>location</th>\n",
       "      <th>number_of_students</th>\n",
       "      <th>international_students%</th>\n",
       "      <th>overall_score</th>\n",
       "      <th>teaching_score</th>\n",
       "      <th>research_score</th>\n",
       "      <th>citations_score</th>\n",
       "      <th>industry_income_score</th>\n",
       "      <th>international_outlook_score</th>\n",
       "      <th>Unnamed: 9</th>\n",
       "      <th>Unnamed: 10</th>\n",
       "      <th>Unnamed: 11</th>\n",
       "      <th>Unnamed: 12</th>\n",
       "    </tr>\n",
       "  </thead>\n",
       "  <tbody>\n",
       "    <tr>\n",
       "      <th>0</th>\n",
       "      <td>1</td>\n",
       "      <td>University of Oxford</td>\n",
       "      <td>United Kingdom</td>\n",
       "      <td>20,774</td>\n",
       "      <td>0.41</td>\n",
       "      <td>95.6</td>\n",
       "      <td>91.3</td>\n",
       "      <td>99.6</td>\n",
       "      <td>98.0</td>\n",
       "      <td>68.7</td>\n",
       "      <td>96.4</td>\n",
       "      <td>NaN</td>\n",
       "      <td>NaN</td>\n",
       "      <td>NaN</td>\n",
       "      <td>NaN</td>\n",
       "    </tr>\n",
       "    <tr>\n",
       "      <th>1</th>\n",
       "      <td>2</td>\n",
       "      <td>Stanford University</td>\n",
       "      <td>United States</td>\n",
       "      <td>16,223</td>\n",
       "      <td>0.23</td>\n",
       "      <td>94.9</td>\n",
       "      <td>92.2</td>\n",
       "      <td>96.7</td>\n",
       "      <td>99.9</td>\n",
       "      <td>90.1</td>\n",
       "      <td>79.5</td>\n",
       "      <td>NaN</td>\n",
       "      <td>NaN</td>\n",
       "      <td>NaN</td>\n",
       "      <td>NaN</td>\n",
       "    </tr>\n",
       "    <tr>\n",
       "      <th>2</th>\n",
       "      <td>3</td>\n",
       "      <td>Harvard University</td>\n",
       "      <td>United States</td>\n",
       "      <td>21,261</td>\n",
       "      <td>0.25</td>\n",
       "      <td>94.8</td>\n",
       "      <td>94.4</td>\n",
       "      <td>98.8</td>\n",
       "      <td>99.4</td>\n",
       "      <td>46.8</td>\n",
       "      <td>77.7</td>\n",
       "      <td>NaN</td>\n",
       "      <td>NaN</td>\n",
       "      <td>NaN</td>\n",
       "      <td>NaN</td>\n",
       "    </tr>\n",
       "    <tr>\n",
       "      <th>3</th>\n",
       "      <td>4</td>\n",
       "      <td>California Institute of Technology</td>\n",
       "      <td>United States</td>\n",
       "      <td>2,238</td>\n",
       "      <td>0.33</td>\n",
       "      <td>94.5</td>\n",
       "      <td>92.5</td>\n",
       "      <td>96.9</td>\n",
       "      <td>97.0</td>\n",
       "      <td>92.7</td>\n",
       "      <td>83.6</td>\n",
       "      <td>NaN</td>\n",
       "      <td>NaN</td>\n",
       "      <td>NaN</td>\n",
       "      <td>NaN</td>\n",
       "    </tr>\n",
       "    <tr>\n",
       "      <th>4</th>\n",
       "      <td>5</td>\n",
       "      <td>Massachusetts Institute of Technology</td>\n",
       "      <td>United States</td>\n",
       "      <td>11,276</td>\n",
       "      <td>0.34</td>\n",
       "      <td>94.4</td>\n",
       "      <td>90.7</td>\n",
       "      <td>94.4</td>\n",
       "      <td>99.7</td>\n",
       "      <td>90.4</td>\n",
       "      <td>90.0</td>\n",
       "      <td>NaN</td>\n",
       "      <td>NaN</td>\n",
       "      <td>NaN</td>\n",
       "      <td>NaN</td>\n",
       "    </tr>\n",
       "  </tbody>\n",
       "</table>\n",
       "</div>"
      ],
      "text/plain": [
       "  ranking                                  title        location  \\\n",
       "0       1                   University of Oxford  United Kingdom   \n",
       "1       2                    Stanford University   United States   \n",
       "2       3                     Harvard University   United States   \n",
       "3       4     California Institute of Technology   United States   \n",
       "4       5  Massachusetts Institute of Technology   United States   \n",
       "\n",
       "  number_of_students  international_students%  overall_score  teaching_score  \\\n",
       "0             20,774                     0.41           95.6            91.3   \n",
       "1             16,223                     0.23           94.9            92.2   \n",
       "2             21,261                     0.25           94.8            94.4   \n",
       "3              2,238                     0.33           94.5            92.5   \n",
       "4             11,276                     0.34           94.4            90.7   \n",
       "\n",
       "   research_score  citations_score  industry_income_score  \\\n",
       "0            99.6             98.0                   68.7   \n",
       "1            96.7             99.9                   90.1   \n",
       "2            98.8             99.4                   46.8   \n",
       "3            96.9             97.0                   92.7   \n",
       "4            94.4             99.7                   90.4   \n",
       "\n",
       "   international_outlook_score  Unnamed: 9  Unnamed: 10  Unnamed: 11  \\\n",
       "0                         96.4         NaN          NaN          NaN   \n",
       "1                         79.5         NaN          NaN          NaN   \n",
       "2                         77.7         NaN          NaN          NaN   \n",
       "3                         83.6         NaN          NaN          NaN   \n",
       "4                         90.0         NaN          NaN          NaN   \n",
       "\n",
       "   Unnamed: 12  \n",
       "0          NaN  \n",
       "1          NaN  \n",
       "2          NaN  \n",
       "3          NaN  \n",
       "4          NaN  "
      ]
     },
     "execution_count": 44,
     "metadata": {},
     "output_type": "execute_result"
    }
   ],
   "source": [
    "df_merged.head()"
   ]
  },
  {
   "cell_type": "code",
   "execution_count": 45,
   "id": "ff5f648f-9208-4f4c-82d2-0b4f6ce47140",
   "metadata": {},
   "outputs": [
    {
     "data": {
      "text/plain": [
       "(1526, 15)"
      ]
     },
     "execution_count": 45,
     "metadata": {},
     "output_type": "execute_result"
    }
   ],
   "source": [
    "df_merged.shape"
   ]
  },
  {
   "cell_type": "code",
   "execution_count": 46,
   "id": "9dbc5b44-7d97-4ec0-8548-cbf8908358ce",
   "metadata": {},
   "outputs": [
    {
     "data": {
      "text/html": [
       "<div>\n",
       "<style scoped>\n",
       "    .dataframe tbody tr th:only-of-type {\n",
       "        vertical-align: middle;\n",
       "    }\n",
       "\n",
       "    .dataframe tbody tr th {\n",
       "        vertical-align: top;\n",
       "    }\n",
       "\n",
       "    .dataframe thead th {\n",
       "        text-align: right;\n",
       "    }\n",
       "</style>\n",
       "<table border=\"1\" class=\"dataframe\">\n",
       "  <thead>\n",
       "    <tr style=\"text-align: right;\">\n",
       "      <th></th>\n",
       "      <th>international_students%</th>\n",
       "      <th>overall_score</th>\n",
       "      <th>teaching_score</th>\n",
       "      <th>research_score</th>\n",
       "      <th>citations_score</th>\n",
       "      <th>industry_income_score</th>\n",
       "      <th>international_outlook_score</th>\n",
       "      <th>Unnamed: 9</th>\n",
       "      <th>Unnamed: 10</th>\n",
       "      <th>Unnamed: 11</th>\n",
       "      <th>Unnamed: 12</th>\n",
       "    </tr>\n",
       "  </thead>\n",
       "  <tbody>\n",
       "    <tr>\n",
       "      <th>count</th>\n",
       "      <td>1526.000000</td>\n",
       "      <td>1526.000000</td>\n",
       "      <td>1526.000000</td>\n",
       "      <td>1526.000000</td>\n",
       "      <td>1526.000000</td>\n",
       "      <td>1526.000000</td>\n",
       "      <td>1526.000000</td>\n",
       "      <td>0.0</td>\n",
       "      <td>0.0</td>\n",
       "      <td>0.0</td>\n",
       "      <td>0.0</td>\n",
       "    </tr>\n",
       "    <tr>\n",
       "      <th>mean</th>\n",
       "      <td>0.113073</td>\n",
       "      <td>34.473591</td>\n",
       "      <td>27.811337</td>\n",
       "      <td>23.573001</td>\n",
       "      <td>48.127392</td>\n",
       "      <td>46.090826</td>\n",
       "      <td>47.029292</td>\n",
       "      <td>NaN</td>\n",
       "      <td>NaN</td>\n",
       "      <td>NaN</td>\n",
       "      <td>NaN</td>\n",
       "    </tr>\n",
       "    <tr>\n",
       "      <th>std</th>\n",
       "      <td>0.119854</td>\n",
       "      <td>16.822791</td>\n",
       "      <td>13.622781</td>\n",
       "      <td>17.333799</td>\n",
       "      <td>27.609148</td>\n",
       "      <td>17.151123</td>\n",
       "      <td>23.168845</td>\n",
       "      <td>NaN</td>\n",
       "      <td>NaN</td>\n",
       "      <td>NaN</td>\n",
       "      <td>NaN</td>\n",
       "    </tr>\n",
       "    <tr>\n",
       "      <th>min</th>\n",
       "      <td>0.000000</td>\n",
       "      <td>11.000000</td>\n",
       "      <td>11.700000</td>\n",
       "      <td>7.100000</td>\n",
       "      <td>1.900000</td>\n",
       "      <td>33.300000</td>\n",
       "      <td>13.500000</td>\n",
       "      <td>NaN</td>\n",
       "      <td>NaN</td>\n",
       "      <td>NaN</td>\n",
       "      <td>NaN</td>\n",
       "    </tr>\n",
       "    <tr>\n",
       "      <th>25%</th>\n",
       "      <td>0.020000</td>\n",
       "      <td>21.000000</td>\n",
       "      <td>18.600000</td>\n",
       "      <td>11.400000</td>\n",
       "      <td>23.500000</td>\n",
       "      <td>34.800000</td>\n",
       "      <td>27.500000</td>\n",
       "      <td>NaN</td>\n",
       "      <td>NaN</td>\n",
       "      <td>NaN</td>\n",
       "      <td>NaN</td>\n",
       "    </tr>\n",
       "    <tr>\n",
       "      <th>50%</th>\n",
       "      <td>0.070000</td>\n",
       "      <td>32.000000</td>\n",
       "      <td>23.550000</td>\n",
       "      <td>17.500000</td>\n",
       "      <td>45.100000</td>\n",
       "      <td>38.500000</td>\n",
       "      <td>42.300000</td>\n",
       "      <td>NaN</td>\n",
       "      <td>NaN</td>\n",
       "      <td>NaN</td>\n",
       "      <td>NaN</td>\n",
       "    </tr>\n",
       "    <tr>\n",
       "      <th>75%</th>\n",
       "      <td>0.170000</td>\n",
       "      <td>44.000000</td>\n",
       "      <td>32.500000</td>\n",
       "      <td>29.975000</td>\n",
       "      <td>71.300000</td>\n",
       "      <td>50.000000</td>\n",
       "      <td>63.000000</td>\n",
       "      <td>NaN</td>\n",
       "      <td>NaN</td>\n",
       "      <td>NaN</td>\n",
       "      <td>NaN</td>\n",
       "    </tr>\n",
       "    <tr>\n",
       "      <th>max</th>\n",
       "      <td>0.840000</td>\n",
       "      <td>95.600000</td>\n",
       "      <td>94.400000</td>\n",
       "      <td>99.600000</td>\n",
       "      <td>100.000000</td>\n",
       "      <td>100.000000</td>\n",
       "      <td>100.000000</td>\n",
       "      <td>NaN</td>\n",
       "      <td>NaN</td>\n",
       "      <td>NaN</td>\n",
       "      <td>NaN</td>\n",
       "    </tr>\n",
       "  </tbody>\n",
       "</table>\n",
       "</div>"
      ],
      "text/plain": [
       "       international_students%  overall_score  teaching_score  research_score  \\\n",
       "count              1526.000000    1526.000000     1526.000000     1526.000000   \n",
       "mean                  0.113073      34.473591       27.811337       23.573001   \n",
       "std                   0.119854      16.822791       13.622781       17.333799   \n",
       "min                   0.000000      11.000000       11.700000        7.100000   \n",
       "25%                   0.020000      21.000000       18.600000       11.400000   \n",
       "50%                   0.070000      32.000000       23.550000       17.500000   \n",
       "75%                   0.170000      44.000000       32.500000       29.975000   \n",
       "max                   0.840000      95.600000       94.400000       99.600000   \n",
       "\n",
       "       citations_score  industry_income_score  international_outlook_score  \\\n",
       "count      1526.000000            1526.000000                  1526.000000   \n",
       "mean         48.127392              46.090826                    47.029292   \n",
       "std          27.609148              17.151123                    23.168845   \n",
       "min           1.900000              33.300000                    13.500000   \n",
       "25%          23.500000              34.800000                    27.500000   \n",
       "50%          45.100000              38.500000                    42.300000   \n",
       "75%          71.300000              50.000000                    63.000000   \n",
       "max         100.000000             100.000000                   100.000000   \n",
       "\n",
       "       Unnamed: 9  Unnamed: 10  Unnamed: 11  Unnamed: 12  \n",
       "count         0.0          0.0          0.0          0.0  \n",
       "mean          NaN          NaN          NaN          NaN  \n",
       "std           NaN          NaN          NaN          NaN  \n",
       "min           NaN          NaN          NaN          NaN  \n",
       "25%           NaN          NaN          NaN          NaN  \n",
       "50%           NaN          NaN          NaN          NaN  \n",
       "75%           NaN          NaN          NaN          NaN  \n",
       "max           NaN          NaN          NaN          NaN  "
      ]
     },
     "execution_count": 46,
     "metadata": {},
     "output_type": "execute_result"
    }
   ],
   "source": [
    "# df_merged statistical analysis\n",
    "df_merged.describe()"
   ]
  },
  {
   "cell_type": "markdown",
   "id": "3e6264bd-3c7b-4883-ac65-bc17bfda02c0",
   "metadata": {},
   "source": [
    "## Export Data"
   ]
  },
  {
   "cell_type": "code",
   "execution_count": 48,
   "id": "4051597a-123c-45e9-b74a-21b61fb09333",
   "metadata": {},
   "outputs": [],
   "source": [
    "df_merged.to_csv(os.path.join(path,'clean_df.csv'))"
   ]
  },
  {
   "cell_type": "code",
   "execution_count": null,
   "id": "5bd8cf33-ae0a-41f5-b7b8-953c4fcb9fb9",
   "metadata": {},
   "outputs": [],
   "source": []
  }
 ],
 "metadata": {
  "kernelspec": {
   "display_name": "Python [conda env:base] *",
   "language": "python",
   "name": "conda-base-py"
  },
  "language_info": {
   "codemirror_mode": {
    "name": "ipython",
    "version": 3
   },
   "file_extension": ".py",
   "mimetype": "text/x-python",
   "name": "python",
   "nbconvert_exporter": "python",
   "pygments_lexer": "ipython3",
   "version": "3.12.7"
  }
 },
 "nbformat": 4,
 "nbformat_minor": 5
}
